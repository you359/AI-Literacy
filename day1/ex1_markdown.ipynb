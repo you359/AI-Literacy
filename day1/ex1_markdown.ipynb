{
 "cells": [
  {
   "cell_type": "markdown",
   "id": "94fbf6c6-0029-409c-9ddf-63fa39646a3a",
   "metadata": {},
   "source": [
    "# Markdown 실습\n",
    "## Header\n",
    "### 1. Header 작성 (Markdown 언어)"
   ]
  },
  {
   "cell_type": "markdown",
   "id": "88b12256-140d-4e4b-8482-d3457201af1f",
   "metadata": {},
   "source": [
    "<a id = \"Header\"></a>"
   ]
  },
  {
   "cell_type": "raw",
   "id": "f3c4c2b3-7578-4cf5-9945-1bee2a25f8c7",
   "metadata": {
    "jp-MarkdownHeadingCollapsed": true
   },
   "source": [
    "# Header\n",
    "## Header\n",
    "### Header\n",
    "#### Header\n",
    "##### Header\n",
    "###### Header"
   ]
  },
  {
   "cell_type": "markdown",
   "id": "44837f67-1f80-469c-bc77-e3ec39080dea",
   "metadata": {},
   "source": [
    "# Header\n",
    "## Header\n",
    "### Header\n",
    "#### Header\n",
    "##### Header\n",
    "###### Header"
   ]
  },
  {
   "cell_type": "markdown",
   "id": "77de12fd-c434-4842-9443-1529846a64c8",
   "metadata": {},
   "source": [
    "### 2. header 작성 (HTML언어)"
   ]
  },
  {
   "cell_type": "raw",
   "id": "c823da21-e88b-432c-94d9-c0345042d078",
   "metadata": {},
   "source": [
    "<h1>header</h1>\n",
    "<h2>header</h2>\n",
    "<h3>header</h3>\n",
    "<h4>header</h4>\n",
    "<h5>header</h5>\n",
    "<h6>header</h6>"
   ]
  },
  {
   "cell_type": "markdown",
   "id": "3ae1e0d1-fe88-463d-8ba7-e5a4de3a2eed",
   "metadata": {},
   "source": [
    "<h1>header</h1>\n",
    "<h2>header</h2>\n",
    "<h3>header</h3>\n",
    "<h4>header</h4>\n",
    "<h5>header</h5>\n",
    "<h6>header</h6>\n"
   ]
  },
  {
   "cell_type": "markdown",
   "id": "571a8e0c-288c-439c-9cbb-c93db66643b2",
   "metadata": {},
   "source": [
    "---"
   ]
  },
  {
   "cell_type": "markdown",
   "id": "adad4101-d307-4245-97f1-cec4d147b2eb",
   "metadata": {},
   "source": [
    "## Bold Text\n",
    "### 1. Bold Text 작성(Markdown)언어"
   ]
  },
  {
   "cell_type": "raw",
   "id": "65b62170-12b0-4688-8d2d-3c772c2b54e2",
   "metadata": {},
   "source": [
    "이 글은 **굵게** 작성된 내용입니다.  \n",
    "__이 글은 굵게 작성된 내용입니다,__"
   ]
  },
  {
   "cell_type": "markdown",
   "id": "55980fa4-db91-4345-ad0b-b6685929d5e5",
   "metadata": {},
   "source": [
    "이 글은 **굵게** 작성된 내용입니다.  \n",
    "__이 글은 굵게 작성된 내용입니다,__"
   ]
  },
  {
   "cell_type": "markdown",
   "id": "3b46cce3-d58f-4ebe-8326-a85a2580d660",
   "metadata": {},
   "source": [
    "### 2. Bold Text 작성(HTML언어)"
   ]
  },
  {
   "cell_type": "raw",
   "id": "c2e7b585-e578-4241-89b5-603d4206c0fc",
   "metadata": {},
   "source": [
    "이 글은 <b>굵게</b> 작성된 내용입니다.</br>\n",
    "<strong>이 글은 굵게 작성된 내용입니다.</strong>"
   ]
  },
  {
   "cell_type": "markdown",
   "id": "be2f5418-790d-40c2-921b-dce1ea07418d",
   "metadata": {},
   "source": [
    "이 글은 <b>굵게</b> 작성된 내용입니다.</br>\n",
    "<strong>이 글은 굵게 작성된 내용입니다.</strong>"
   ]
  },
  {
   "cell_type": "markdown",
   "id": "a267b062-36ec-4e14-a49a-3007a8a84930",
   "metadata": {},
   "source": [
    "---"
   ]
  },
  {
   "cell_type": "markdown",
   "id": "b4c60d8a-3c74-4b44-970a-61414209cee0",
   "metadata": {},
   "source": [
    "## Italic Text\n",
    "### 1.Italic Text 작성 (Markdown)언어"
   ]
  },
  {
   "cell_type": "raw",
   "id": "3101eedf-c837-42e5-b557-bf709fa35316",
   "metadata": {},
   "source": [
    "이 글은 *기울기*가 적용된 내용입니다.  \n",
    "_이 글은 기울기가 적용된 내용입니다._"
   ]
  },
  {
   "cell_type": "markdown",
   "id": "24e85127-29e5-46e5-a713-49881b2a8d0b",
   "metadata": {},
   "source": [
    "이 글은 *기울기*가 적용된 내용입니다.  \n",
    "_이 글은 기울기가 적용된 내용입니다._"
   ]
  },
  {
   "cell_type": "markdown",
   "id": "15d1a454-e819-4179-bb31-53335bbaf29f",
   "metadata": {},
   "source": [
    "### 2. Italic Text 작성 (HTML)언어"
   ]
  },
  {
   "cell_type": "raw",
   "id": "b833ff84-6dfd-4c94-821c-337f2df6678d",
   "metadata": {},
   "source": [
    "이 글은 <em>기울기<em>가 적용된 내용입니다. <br>\n",
    "<em>이 글은 기울기가 적용된 내용입니다.<em>  "
   ]
  },
  {
   "cell_type": "markdown",
   "id": "7aacbe22-67e7-4f61-84cf-78cf37d26018",
   "metadata": {},
   "source": [
    "이 글은 <em>기울기<em>가 적용된 내용입니다. <br>\n",
    "<em>이 글은 기울기가 적용된 내용입니다.<em>  "
   ]
  },
  {
   "cell_type": "markdown",
   "id": "04836878-5b39-4f9b-9163-628eadf5e8b6",
   "metadata": {},
   "source": [
    "---"
   ]
  },
  {
   "cell_type": "markdown",
   "id": "7f741d75-167d-4f37-9348-6e4696584778",
   "metadata": {},
   "source": [
    "## Bold & Italic Text"
   ]
  },
  {
   "cell_type": "markdown",
   "id": "505c3277-cd7d-4ea6-9741-2a75bd9e9037",
   "metadata": {},
   "source": [
    "### 1. Bold & Italic Text 작성 (Markdown)언어"
   ]
  },
  {
   "cell_type": "raw",
   "id": "538aba54-20aa-4303-b30c-66f670d96ab4",
   "metadata": {},
   "source": [
    "이 글은 ***굵게 그리고 기울기가*** 동시에 적용된 내용입니다.  \n",
    "___이 글은 굵게 그리고 기울기가 동시에 적용된 내용입니다.___"
   ]
  },
  {
   "cell_type": "markdown",
   "id": "0784e06d-1bec-4a01-8b34-cc5f53800b9d",
   "metadata": {},
   "source": [
    "이 글은 ***굵게 그리고 기울기가*** 동시에 적용된 내용입니다.  \n",
    "___이 글은 굵게 그리고 기울기가 동시에 적용된 내용입니다.___"
   ]
  },
  {
   "cell_type": "markdown",
   "id": "862164a7-7ba2-40bd-b579-e3e9f40871ec",
   "metadata": {},
   "source": [
    "### 2. Bold & Italic Text 작성 (HTML)언어"
   ]
  },
  {
   "cell_type": "raw",
   "id": "5692fdd8-81e7-4930-9092-876515f1b96a",
   "metadata": {},
   "source": [
    "이 글은 <b><i>굵게 그리고 기울기가</b></i> 동시에 적용된 내용입니다. <br> \n",
    "<em><strong>이 글은 굵게 그리고 기울기가 동시에 적용된 내용입니다. </em></strong>"
   ]
  },
  {
   "cell_type": "markdown",
   "id": "3369692e-5edb-4f78-aaf8-f3030498e4c8",
   "metadata": {},
   "source": [
    "이 글은 <b><i>굵게 그리고 기울기가</b></i> 동시에 적용된 내용입니다. <br> \n",
    "<em><strong>이 글은 굵게 그리고 기울기가 동시에 적용된 내용입니다. </em></strong>\n"
   ]
  },
  {
   "cell_type": "raw",
   "id": "78509689-f8d6-4dfc-80c9-84421966f24b",
   "metadata": {},
   "source": [
    "---"
   ]
  },
  {
   "cell_type": "markdown",
   "id": "430b1dc9-eed7-4c0b-b055-520b57f07c21",
   "metadata": {},
   "source": [
    "## Strike Through Text\n",
    "### 1. Strike Through Text 작성(Markdown)언어"
   ]
  },
  {
   "cell_type": "markdown",
   "id": "35c073b2-fd82-4723-b58e-e2d36a40486e",
   "metadata": {},
   "source": [
    "~~이 글은 취소된 내용입니다.~~"
   ]
  },
  {
   "cell_type": "markdown",
   "id": "7a91ab15-a4d3-4e90-b216-67a2ad88ed4c",
   "metadata": {},
   "source": [
    "~~이 글은 취소된 내용입니다.~~"
   ]
  },
  {
   "cell_type": "markdown",
   "id": "be3e58c2-256a-4824-8679-0903167ebabf",
   "metadata": {},
   "source": [
    "### 2. Strike Through Text 작성(HTML)언어"
   ]
  },
  {
   "cell_type": "raw",
   "id": "4c20e0bc-3b69-467c-974d-5690916f8f14",
   "metadata": {},
   "source": [
    "<del>이 글은 취소된 내용입니다</del>"
   ]
  },
  {
   "cell_type": "markdown",
   "id": "5b2d69b4-8efe-4199-9bbc-a579e2a240f0",
   "metadata": {},
   "source": [
    "<del>이 글은 취소된 내용입니다</del>"
   ]
  },
  {
   "cell_type": "markdown",
   "id": "647ac4db-d5f6-4a17-83c4-77d86464454f",
   "metadata": {},
   "source": [
    "---"
   ]
  },
  {
   "cell_type": "markdown",
   "id": "eba6d06d-258b-40aa-94c8-a240f1fb112a",
   "metadata": {},
   "source": [
    "## Backslash Escape\n",
    "### Backslash Escape (Markdown)언어\n",
    "  + 마크다운 언어를 통해 \"#\"문자를 작성하고자 할 때는, 역 슬래쉬(\\#)문자를 활용"
   ]
  },
  {
   "cell_type": "raw",
   "id": "4233ad88-6000-4b80-b937-974ebea5a7b0",
   "metadata": {},
   "source": [
    "\\# Not header"
   ]
  },
  {
   "cell_type": "markdown",
   "id": "e5718220-b111-4002-928e-1004d787c6d8",
   "metadata": {},
   "source": [
    "\\# Not header"
   ]
  },
  {
   "cell_type": "raw",
   "id": "2e31457a-5374-44db-83af-10ad33fea9cc",
   "metadata": {},
   "source": [
    "\\*\\*이 글은 굵게 작성되지 않은 내용입니다**"
   ]
  },
  {
   "cell_type": "markdown",
   "id": "9feba58e-a63f-4f4f-9050-49a36c696811",
   "metadata": {},
   "source": [
    "\\*\\*이 글은 굵게 작성되지 않은 내용입니다**"
   ]
  },
  {
   "cell_type": "markdown",
   "id": "6226bc9d-3237-492d-a30b-587fe6c3fe10",
   "metadata": {},
   "source": [
    "---"
   ]
  },
  {
   "cell_type": "markdown",
   "id": "9f3add87-b9e6-4c4c-8847-8c7093f762bc",
   "metadata": {},
   "source": [
    "## Paragraphs  \n",
    "### 1. Paragraphs 작성 (Markdown)언어"
   ]
  },
  {
   "cell_type": "raw",
   "id": "9e4c815f-216f-46e6-9c10-16fa1e2a5da7",
   "metadata": {},
   "source": [
    "이 글은 첫 번째 문장입니다.  \n",
    "이 글은 두 번째 문장입니다."
   ]
  },
  {
   "cell_type": "markdown",
   "id": "f7fdcc90-93d4-4455-8dff-253d0216a4db",
   "metadata": {},
   "source": [
    "이 글은 첫 번째 문장입니다.  \n",
    "이 글은 두 번째 문장입니다."
   ]
  },
  {
   "cell_type": "markdown",
   "id": "59398da3-8e3b-4134-965b-3d11ce6e5eee",
   "metadata": {},
   "source": [
    "### 2. Paragraphs 작성 (HTML)언어"
   ]
  },
  {
   "cell_type": "raw",
   "id": "d0871c7c-d3b1-4b95-9e67-1a2ebc292414",
   "metadata": {},
   "source": [
    "이 글은 첫 번째 문장입니다.<br>\n",
    "이 글은 두 번째 문장입니다."
   ]
  },
  {
   "cell_type": "markdown",
   "id": "3b4e71ff-8976-44f3-b182-b6fb3a093492",
   "metadata": {},
   "source": [
    "이 글은 첫 번째 문장입니다.<br>\n",
    "이 글은 두 번째 문장입니다."
   ]
  },
  {
   "cell_type": "raw",
   "id": "d9aebf22-1adf-4ff8-be73-e6e17b4da38f",
   "metadata": {},
   "source": [
    "<p>이 글은 첫 번째 문장입니다.</p>\n",
    "<p>이 글은 두 번째 문장입니다.</p>"
   ]
  },
  {
   "cell_type": "markdown",
   "id": "68247bf3-d100-4562-b605-373f3550ad43",
   "metadata": {},
   "source": [
    "<p>이 글은 첫 번째 문장입니다.</p>\n",
    "<p>이 글은 두 번째 문장입니다.</p>"
   ]
  },
  {
   "cell_type": "markdown",
   "id": "3014f92c-5d94-4b2d-ba51-b6942920d99d",
   "metadata": {},
   "source": [
    "---"
   ]
  },
  {
   "cell_type": "markdown",
   "id": "e38fbed3-64b4-4112-a34f-a591c3e7d791",
   "metadata": {},
   "source": [
    "## BlockQuotes\n",
    "### 1. BlockQuotes 작성 (Markdown)언어"
   ]
  },
  {
   "cell_type": "raw",
   "id": "11e161b3-2f55-4723-a757-102377dea44a",
   "metadata": {},
   "source": [
    "> 이 글은 인용문입니다."
   ]
  },
  {
   "cell_type": "markdown",
   "id": "d18c11c5-e802-4356-9318-72e535917cc1",
   "metadata": {},
   "source": [
    "> 이 글은 인용문입니다."
   ]
  },
  {
   "cell_type": "markdown",
   "id": "cb4b749c-cff7-408e-9637-c3d23b27d404",
   "metadata": {},
   "source": [
    "### 2. BlockQuotes 작성 (HTML)언어"
   ]
  },
  {
   "cell_type": "raw",
   "id": "b4d80cdf-cfd4-49ee-923d-a322460450be",
   "metadata": {},
   "source": [
    "<blockquote>이 글은 인용문입니다.</blockquote>"
   ]
  },
  {
   "cell_type": "markdown",
   "id": "c851fca4-5489-43ad-88f4-af8e0a6123ae",
   "metadata": {},
   "source": [
    "> 이 글은 인용문입니다."
   ]
  },
  {
   "cell_type": "markdown",
   "id": "921dccb0-730f-475a-9eb3-ba07931e604b",
   "metadata": {},
   "source": [
    "---"
   ]
  },
  {
   "cell_type": "markdown",
   "id": "1f3ee688-a866-42f9-836a-780e3959c87e",
   "metadata": {},
   "source": [
    "## Nested Block Quoting\n",
    "### 1. Nested Block Quoting 작성 (Markdown)언어"
   ]
  },
  {
   "cell_type": "raw",
   "id": "f1329a8a-ba63-4fc4-8073-49128c1fcde5",
   "metadata": {},
   "source": [
    "> 1 수준 인용문\n",
    ">> 2 수준 인용문\n",
    ">>> 3 수준 인용문"
   ]
  },
  {
   "cell_type": "markdown",
   "id": "058cc539-801b-4e7f-a6b5-6eeb86436151",
   "metadata": {},
   "source": [
    "> 1 수준 인용문\n",
    ">> 2 수준 인용문\n",
    ">>> 3 수준 인용문"
   ]
  },
  {
   "cell_type": "markdown",
   "id": "7ffa422d-dfb8-4c95-9528-e04b643fce8c",
   "metadata": {},
   "source": [
    "### 2. Nested Block Quoting 작성 (HTML)언어"
   ]
  },
  {
   "cell_type": "raw",
   "id": "893460e1-4105-4205-abb9-42e69851dd36",
   "metadata": {},
   "source": [
    "<blockquote>\n",
    "    <p>1 수준 인용문</p>\n",
    "    <blockquote>\n",
    "        <p>2 수준 인용문</p>\n",
    "        <blockquote>\n",
    "            <p>3 수준 인용문</p> \n",
    "        </blockquote>\n",
    "    </blockquote>\n",
    "</blockquote>"
   ]
  },
  {
   "cell_type": "markdown",
   "id": "7e514651-acb2-4d98-b542-259c19ea4b14",
   "metadata": {},
   "source": [
    "<blockquote>\n",
    "    <p>1 수준 인용문</p>\n",
    "    <blockquote>\n",
    "        <p>2 수준 인용문</p>\n",
    "        <blockquote>\n",
    "            <p>3 수준 인용문</p> \n",
    "        </blockquote>\n",
    "    </blockquote>\n",
    "</blockquote>"
   ]
  },
  {
   "cell_type": "markdown",
   "id": "75f58266-68a6-4712-9272-00002f1d07da",
   "metadata": {},
   "source": [
    "---"
   ]
  },
  {
   "cell_type": "markdown",
   "id": "416d126c-3653-42cb-a739-fd0afbca8e28",
   "metadata": {},
   "source": [
    "## Horizontal Line\n",
    "### 1. Horizontal Line 작성 (Markdown)언어"
   ]
  },
  {
   "cell_type": "raw",
   "id": "bb4eb453-8ad1-4eb6-9f5c-1fafa2ddf9ee",
   "metadata": {},
   "source": [
    "---\n",
    "___\n",
    "***"
   ]
  },
  {
   "cell_type": "markdown",
   "id": "1551690c-1907-4010-af10-7ebdab90aa34",
   "metadata": {},
   "source": [
    "---\n",
    "___\n",
    "***"
   ]
  },
  {
   "cell_type": "markdown",
   "id": "4d54dd4e-880b-4fcd-a6f6-1a6059ec6a4b",
   "metadata": {},
   "source": [
    "### 2. Horizontal Line 작성 (HTML)언어"
   ]
  },
  {
   "cell_type": "raw",
   "id": "44c393f2-bc94-4217-8a71-7e15facfd666",
   "metadata": {},
   "source": [
    "<hr>"
   ]
  },
  {
   "cell_type": "markdown",
   "id": "c00547ff-ef83-41b9-a51a-cc389808e84e",
   "metadata": {},
   "source": [
    "<hr>"
   ]
  },
  {
   "cell_type": "markdown",
   "id": "7accaa0d-0541-4341-b608-13fb4e55d440",
   "metadata": {},
   "source": [
    "## Ordered List\n",
    "### 1. Ordered List 작성 (Markdown)언어"
   ]
  },
  {
   "cell_type": "raw",
   "id": "a6547ac0-57cc-4fee-880c-eeb91e6e8af7",
   "metadata": {},
   "source": [
    "1. 아이템 1\n",
    "2. 아이템 2\n",
    "3. 아이템 3\n",
    "4. 아이템 4\n",
    "5. 아이템 5"
   ]
  },
  {
   "cell_type": "markdown",
   "id": "19611348-3db7-4366-837f-0e2ac1b192fc",
   "metadata": {},
   "source": [
    "1. 아이템 1\n",
    "2. 아이템 2\n",
    "3. 아이템 3\n",
    "4. 아이템 4\n",
    "5. 아이템 5"
   ]
  },
  {
   "cell_type": "markdown",
   "id": "a215285c-c429-4324-95f4-d6b553d0b6bd",
   "metadata": {},
   "source": [
    "### 2. Ordered List 작성 (HTML)언어"
   ]
  },
  {
   "cell_type": "raw",
   "id": "c5a4800d-a946-40fd-907b-34a14d96082f",
   "metadata": {},
   "source": [
    "<ol>\n",
    " <li>아이템 1</li>\n",
    " <li>아이템 2</li>\n",
    " <li>아이템 3</li>\n",
    " <li>아이템 4</li>\n",
    " <li>아이템 5</li>\n",
    "</ol>"
   ]
  },
  {
   "cell_type": "markdown",
   "id": "468c248a-abe9-406e-acc6-45a831003230",
   "metadata": {},
   "source": [
    "<ol>\n",
    " <li>아이템 1</li>\n",
    " <li>아이템 2</li>\n",
    " <li>아이템 3</li>\n",
    " <li>아이템 4</li>\n",
    " <li>아이템 5</li>\n",
    "</ol>"
   ]
  },
  {
   "cell_type": "markdown",
   "id": "5c069e06-9eb5-4d2e-aff5-5d6482e53b2f",
   "metadata": {},
   "source": [
    "---"
   ]
  },
  {
   "cell_type": "markdown",
   "id": "6cfe641b-abe8-46e3-a13e-a38e484001c7",
   "metadata": {},
   "source": [
    "## Nested Ordered List  \n",
    "### 1. Nested Ordered List작성 (Markdown)언어"
   ]
  },
  {
   "cell_type": "raw",
   "id": "e9469f1e-9b67-467c-808f-9d3618d012bf",
   "metadata": {},
   "source": [
    "1. 아이템 1\n",
    "   1. 서브 아이템 1\n",
    "   2. 서브 아이템 2\n",
    "   3. 서브 아이템 3\n",
    "2. 아이템 2\n",
    "3. 아이템 3/ol>"
   ]
  },
  {
   "cell_type": "markdown",
   "id": "306487e6-205f-49a7-aff1-2bc09864540d",
   "metadata": {},
   "source": [
    "1. 아이템 1\n",
    "   1. 서브 아이템 1\n",
    "   2. 서브 아이템 2\n",
    "   3. 서브 아이템 3\n",
    "2. 아이템 2\n",
    "3. 아이템 3"
   ]
  },
  {
   "cell_type": "markdown",
   "id": "8260f701-c8f9-4b49-b70d-18efa87ec368",
   "metadata": {},
   "source": [
    "### 2. Nested Ordered List작성 (HTML)언어"
   ]
  },
  {
   "cell_type": "raw",
   "id": "4af80091-1536-4a2c-ac27-ffcc81319b9e",
   "metadata": {},
   "source": [
    "<ol>\n",
    " <li>아이템 1</li>\n",
    "    <ol>\n",
    "        <li>서브아이템 1</li>\n",
    "        <li>서브아이템 2</li>\n",
    "        <li>서브아이템 3</li>\n",
    "    </ol>\n",
    " <li>아이템 2</li>\n",
    " <li>아이템 3</li>\n",
    " <li>아이템 4</li>\n",
    " <li>아이템 5</li>\n",
    "</ol>"
   ]
  },
  {
   "cell_type": "markdown",
   "id": "07eca2c2-6f2d-4c20-80af-21b28400e2ae",
   "metadata": {},
   "source": [
    "<ol>\n",
    " <li>아이템 1</li>\n",
    "    <ol>\n",
    "        <li>서브아이템 1</li>\n",
    "        <li>서브아이템 2</li>\n",
    "        <li>서브아이템 3</li>\n",
    "    </ol>\n",
    " <li>아이템 2</li>\n",
    " <li>아이템 3</li>\n",
    " <li>아이템 4</li>\n",
    " <li>아이템 5</li>\n",
    "</ol>"
   ]
  },
  {
   "cell_type": "markdown",
   "id": "ff4eb112-e40c-48f0-9a72-500c02cee615",
   "metadata": {},
   "source": [
    "---"
   ]
  },
  {
   "cell_type": "markdown",
   "id": "e4092619-75b5-481e-b4a7-1e43d6ee9060",
   "metadata": {},
   "source": [
    "## Unordered List\n",
    "### 1. Unordered List (Markdown)언어"
   ]
  },
  {
   "cell_type": "raw",
   "id": "1a37c426-56a9-43e6-8f6f-814238690679",
   "metadata": {},
   "source": [
    "- 아이템 1  \n",
    "- 아이템 2  \n",
    "  + 서브아이템 2-1\n",
    "  + 서브아이템 2-2"
   ]
  },
  {
   "cell_type": "markdown",
   "id": "64799d1f-6f9d-4dff-9643-a1ee3e63cf33",
   "metadata": {},
   "source": [
    "- 아이템 1  \n",
    "- 아이템 2  \n",
    "  + 서브아이템 2-1\n",
    "  + 서브아이템 2-2"
   ]
  },
  {
   "cell_type": "markdown",
   "id": "076b9ba3-b6a8-4d04-8e03-41885a366750",
   "metadata": {},
   "source": [
    "### 2. Unordered List (HTML)언어"
   ]
  },
  {
   "cell_type": "raw",
   "id": "d3a1013c-46f1-4eae-aef2-5b07dac8dea1",
   "metadata": {},
   "source": [
    "<ul>\n",
    "<li>아이템 1</li>\n",
    "<li>아이템 2</li>\n",
    "    <ul>\n",
    "        <li>서브 아이템 2-1</li>\n",
    "        <li>서브 아이템 2-2</li>\n",
    "    </ul>\n",
    "</ul>"
   ]
  },
  {
   "cell_type": "markdown",
   "id": "9798ccca-0b31-4944-bc63-c22f657ae9da",
   "metadata": {},
   "source": [
    "<ul>\n",
    "<li>아이템 1</li>\n",
    "<li>아이템 2</li>\n",
    "    <ul>\n",
    "        <li>서브 아이템 2-1</li>\n",
    "        <li>서브 아이템 2-2</li>\n",
    "    </ul>\n",
    "</ul>"
   ]
  },
  {
   "cell_type": "markdown",
   "id": "353bbf1b-3db5-454b-bf66-1bf91f321988",
   "metadata": {},
   "source": [
    "---"
   ]
  },
  {
   "cell_type": "markdown",
   "id": "1cb57b7a-474f-4f9a-b701-7447a9ab7660",
   "metadata": {},
   "source": [
    "## Graphics  \n",
    "### 1. 사진 첨부하기 (Markdown)언어\n",
    "   - \\![](이미지 주소)"
   ]
  },
  {
   "cell_type": "raw",
   "id": "5bdaa7ac-ad04-4ec5-a374-9c03838330bf",
   "metadata": {},
   "source": [
    "![](data:image/png;base64,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)"
   ]
  },
  {
   "cell_type": "markdown",
   "id": "33143911-7aef-41ab-ad39-b93f9589d78e",
   "metadata": {},
   "source": [
    "![](data:image/png;base64,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)"
   ]
  },
  {
   "cell_type": "markdown",
   "id": "0fe9c96b-6183-4db3-92e1-96ed400a6a41",
   "metadata": {},
   "source": [
    "### 2. 사진 첨부하기 (Markdown)언어\n",
    "   - \\<img src =\"이미지 주소\">"
   ]
  },
  {
   "cell_type": "raw",
   "id": "9c50024f-f5a2-409f-8400-36aa64f4b9a1",
   "metadata": {},
   "source": [
    "<img src = \"data:image/png;base64,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\">"
   ]
  },
  {
   "cell_type": "markdown",
   "id": "d43723d9-307a-4345-8680-4e3e26b7cbbd",
   "metadata": {},
   "source": [
    "<img src = \"data:image/png;base64,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\">"
   ]
  },
  {
   "cell_type": "markdown",
   "id": "f6fbf093-c62b-4c33-8440-9d1833054631",
   "metadata": {},
   "source": [
    "---"
   ]
  },
  {
   "cell_type": "markdown",
   "id": "3eaadc4e-ef34-42ef-961d-5738fa8aeb98",
   "metadata": {},
   "source": [
    "## Hyperlink  \n",
    "### 1. Hyperlink 작성하기 (Markdown)언어"
   ]
  },
  {
   "cell_type": "raw",
   "id": "7d73ab6e-a146-4aed-8355-3393d8c540da",
   "metadata": {},
   "source": [
    "https://www.naver.com"
   ]
  },
  {
   "cell_type": "markdown",
   "id": "f2382605-289a-4d0c-94ad-882a5d222acc",
   "metadata": {},
   "source": [
    "https://www.naver.com"
   ]
  },
  {
   "cell_type": "markdown",
   "id": "91c0e552-4ae5-47ae-92c5-9b705df735b3",
   "metadata": {},
   "source": [
    "### 2. Hyperlink 작성하기 (HTML)언어"
   ]
  },
  {
   "cell_type": "raw",
   "id": "082376f5-95d2-4d38-8454-f7dba6aec606",
   "metadata": {},
   "source": [
    "<a href = \"https://www.naver.com\">https://www.naver.com</a>"
   ]
  },
  {
   "cell_type": "markdown",
   "id": "f0d5d5e1-b44c-4b1f-89b7-f8cb21521a2f",
   "metadata": {},
   "source": [
    "<a href = \"https://www.naver.com\">https://www.naver.com</a>"
   ]
  },
  {
   "cell_type": "markdown",
   "id": "9ea28d2c-4f8c-4b90-b977-0bb947c5a7cd",
   "metadata": {},
   "source": [
    "---"
   ]
  },
  {
   "cell_type": "markdown",
   "id": "73c16ca3-735e-45b7-8912-9d53b043e2a8",
   "metadata": {},
   "source": [
    "## Hyperlink by name  \n",
    "### 1. Hyperlink by name 작성하기 (Markdown)언어"
   ]
  },
  {
   "cell_type": "raw",
   "id": "3f675bbf-18a7-432e-b7d6-cf6580c34ce4",
   "metadata": {},
   "source": [
    "[click me](https://www.naver.com)"
   ]
  },
  {
   "cell_type": "markdown",
   "id": "6cc9a571-dafb-43ab-8707-8e7770092a5a",
   "metadata": {},
   "source": [
    "[click me](https://www.naver.com)"
   ]
  },
  {
   "cell_type": "markdown",
   "id": "eb8a430c-9348-4dd5-81ee-f8bf04300244",
   "metadata": {},
   "source": [
    "### 2. Hyperlink by name 작성하기 (HTML)언어"
   ]
  },
  {
   "cell_type": "raw",
   "id": "dd5872bd-bf9a-4605-ac4d-bf5c8648bcde",
   "metadata": {},
   "source": [
    "<a href = \"https://www.naver.com\">click me</a>"
   ]
  },
  {
   "cell_type": "markdown",
   "id": "115fe79e-d3a3-4d93-98fe-67c3807bb98a",
   "metadata": {},
   "source": [
    "<a href = \"https://www.naver.com\">click me</a>"
   ]
  },
  {
   "cell_type": "markdown",
   "id": "9e14f895-3186-4fe2-bd24-14c8d6a71f94",
   "metadata": {},
   "source": [
    "---"
   ]
  },
  {
   "cell_type": "markdown",
   "id": "c2155853-81ce-4b79-a387-7a0fd776721e",
   "metadata": {},
   "source": [
    "## Anchor Links \n",
    "### 1. Anchor Links작성하기 (Markdown)언어"
   ]
  },
  {
   "cell_type": "raw",
   "id": "aa8b6cd8-5cb5-4ed1-bdcc-5fb87fef273a",
   "metadata": {},
   "source": [
    "- [Header](#Header)\n",
    "- [Bold Text](#Bold_Text)"
   ]
  },
  {
   "cell_type": "markdown",
   "id": "3e50e90a-1f7f-46fb-81b3-b565b4cdf422",
   "metadata": {},
   "source": [
    "- [Header](#Header)\n",
    "- [Bold Text](#Bold_Text)"
   ]
  },
  {
   "cell_type": "markdown",
   "id": "e6366814-685b-4e22-b57b-7d51d00988b2",
   "metadata": {},
   "source": [
    "---"
   ]
  },
  {
   "cell_type": "markdown",
   "id": "1ecd24a8-f000-495a-b80c-9d109236dfdc",
   "metadata": {},
   "source": [
    "## Task lists\n",
    "### 1. Task lists 작성하기 (Markdown)언어"
   ]
  },
  {
   "cell_type": "raw",
   "id": "14ad7cb4-d44d-44a0-af04-ab5d37a68f14",
   "metadata": {},
   "source": [
    "- [X] 오늘 할일  \n",
    "- [ ] 내일 할일"
   ]
  },
  {
   "cell_type": "markdown",
   "id": "b4d26eec-5f40-4123-8949-2efec47f8ca0",
   "metadata": {},
   "source": [
    "- [X] 오늘 할일  \n",
    "- [ ] 내일 할일"
   ]
  },
  {
   "cell_type": "markdown",
   "id": "edf10a65-917c-4b7f-922b-2f0f5082fb18",
   "metadata": {},
   "source": [
    "---"
   ]
  },
  {
   "cell_type": "markdown",
   "id": "48a3e642-3ada-45bc-b11d-2244f1486ff3",
   "metadata": {},
   "source": [
    "## Inline HTML\n",
    "### 1. Inline HTMl작성"
   ]
  },
  {
   "cell_type": "raw",
   "id": "81c59e5d-6c46-4c2f-a4dd-ca18a58783d8",
   "metadata": {},
   "source": [
    "<span style = \"color:red;\"> 이 글은 스타일이 적용된 문장입니다.</span>"
   ]
  },
  {
   "cell_type": "markdown",
   "id": "17170147-1dee-4798-bee4-61bea9372f79",
   "metadata": {},
   "source": [
    "<span style = \"color:red;\"> 이 글은 스타일이 적용된 문장입니다.</span>"
   ]
  },
  {
   "cell_type": "markdown",
   "id": "b091afde-9b96-41c3-892c-de7c9f1e7eab",
   "metadata": {},
   "source": [
    "---"
   ]
  },
  {
   "cell_type": "markdown",
   "id": "532315f6-b106-4940-bb81-047edc3b1dc9",
   "metadata": {},
   "source": [
    "## Code Section\n",
    "### 1. Code section 작성"
   ]
  },
  {
   "cell_type": "raw",
   "id": "2970883d-78f6-4da4-8b6e-76c908b86859",
   "metadata": {},
   "source": [
    "```python\n",
    "a = 10 \n",
    "print(a)\n",
    "```"
   ]
  },
  {
   "cell_type": "markdown",
   "id": "71c17dd2-e8e4-431a-9127-974f9b72ded7",
   "metadata": {},
   "source": [
    "```python\n",
    "a = 10 \n",
    "print(a)\n",
    "```"
   ]
  },
  {
   "cell_type": "markdown",
   "id": "8c46da80-9059-4460-9ab7-4c4f392646f9",
   "metadata": {},
   "source": [
    "---"
   ]
  },
  {
   "cell_type": "markdown",
   "id": "00d6770b-bc07-4ded-bdcd-59ae7f7800a2",
   "metadata": {},
   "source": [
    "## Latex 수식  \n",
    "### 1. Latex 작성"
   ]
  },
  {
   "cell_type": "raw",
   "id": "368bf616-a143-49ad-898a-0ed3b91ce864",
   "metadata": {},
   "source": [
    "W의 합을 구하는 수식은 $ x = \\sum_{i=0}^{N-1} W_i $ 입니다"
   ]
  },
  {
   "cell_type": "markdown",
   "id": "5a918e2f-c2aa-4b79-8008-c07f554eb93a",
   "metadata": {},
   "source": [
    "W의 합을 구하는 수식은 $ x = \\sum_{i=0}^{N-1} W_i $ 입니다"
   ]
  },
  {
   "cell_type": "raw",
   "id": "3f7a7a38-65df-4b4a-ba64-e31fc6ce0154",
   "metadata": {},
   "source": [
    " $$ x = \\sum_{i=0}^{N-1} W_i $$"
   ]
  },
  {
   "cell_type": "markdown",
   "id": "8aeb0d6b-5bc6-4a7a-8550-c90bc30c565d",
   "metadata": {},
   "source": [
    " $$ x = \\sum_{i=0}^{N-1} W_i $$"
   ]
  },
  {
   "cell_type": "markdown",
   "id": "490948eb-a789-4d2f-94ab-3f1adc77f17a",
   "metadata": {},
   "source": [
    "# Reference\n",
    "[1] https://www.markdownguide.org/getting-started/"
   ]
  }
 ],
 "metadata": {
  "kernelspec": {
   "display_name": "ai",
   "language": "python",
   "name": "ai"
  },
  "language_info": {
   "codemirror_mode": {
    "name": "ipython",
    "version": 3
   },
   "file_extension": ".py",
   "mimetype": "text/x-python",
   "name": "python",
   "nbconvert_exporter": "python",
   "pygments_lexer": "ipython3",
   "version": "3.12.7"
  }
 },
 "nbformat": 4,
 "nbformat_minor": 5
}
